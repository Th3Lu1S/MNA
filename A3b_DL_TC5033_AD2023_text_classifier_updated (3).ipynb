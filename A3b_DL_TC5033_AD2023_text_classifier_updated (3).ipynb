{
  "cells": [
    {
      "cell_type": "code",
      "source": [],
      "metadata": {
        "id": "xNwIe0ESNwZS"
      },
      "id": "xNwIe0ESNwZS",
      "execution_count": null,
      "outputs": []
    },
    {
      "cell_type": "markdown",
      "id": "940c6dbc",
      "metadata": {
        "id": "940c6dbc"
      },
      "source": [
        "## TC 5033\n",
        "### Word Embeddings\n",
        "\n",
        "<br>\n",
        "\n",
        "#### Activity 3b: Text Classification using RNNs and AG_NEWS dataset in PyTorch\n",
        "<br>\n",
        "\n",
        "- Objective:\n",
        "    - Understand the basics of Recurrent Neural Networks (RNNs) and their application in text classification.\n",
        "    - Learn how to handle a real-world text dataset, AG_NEWS, in PyTorch.\n",
        "    - Gain hands-on experience in defining, training, and evaluating a text classification model in PyTorch.\n",
        "    \n",
        "<br>\n",
        "\n",
        "- Instructions:\n",
        "    - Data Preparation: Starter code will be provided that loads the AG_NEWS dataset and prepares it for training. Do not modify this part. However, you should be sure to understand it, and comment it, the use of markdown cells is suggested.\n",
        "\n",
        "    - Model Setup: A skeleton code for the RNN model class will be provided. Complete this class and use it to instantiate your model.\n",
        "\n",
        "    - Implementing Accuracy Function: Write a function that takes model predictions and ground truth labels as input and returns the model's accuracy.\n",
        "\n",
        "    - Training Function: Implement a function that performs training on the given model using the AG_NEWS dataset. Your model should achieve an accuracy of at least 80% to get full marks for this part.\n",
        "\n",
        "    - Text Sampling: Write a function that takes a sample text as input and classifies it using your trained model.\n",
        "\n",
        "    - Confusion Matrix: Implement a function to display the confusion matrix for your model on the test data.\n",
        "\n",
        "    - Submission: Submit your completed Jupyter Notebook. Make sure to include a markdown cell at the beginning of the notebook that lists the names of all team members. Teams should consist of 3 to 4 members.\n",
        "    \n",
        "<br>\n",
        "\n",
        "- Evaluation Criteria:\n",
        "\n",
        "    - Correct setup of all the required libraries and modules (10%)\n",
        "    - Code Quality (30%): Your code should be well-organized, clearly commented, and easy to follow. Use also markdown cells for clarity. Comments should be given for all the provided code, this will help you understand its functionality.\n",
        "    \n",
        "   - Functionality (60%):\n",
        "        - All the functions should execute without errors and provide the expected outputs.\n",
        "        - RNN model class (20%)\n",
        "        - Accuracy fucntion (10%)\n",
        "        - Training function (10%)\n",
        "        - Sampling function (10%)\n",
        "        - Confucion matrix (10%)\n",
        "\n",
        "        - The model should achieve at least an 80% accuracy on the AG_NEWS test set for full marks in this criterion.\n"
      ]
    },
    {
      "cell_type": "markdown",
      "id": "4de318da",
      "metadata": {
        "id": "4de318da"
      },
      "source": [
        "Dataset\n",
        "\n",
        "https://pytorch.org/text/stable/datasets.html#text-classification\n",
        "\n",
        "https://paperswithcode.com/dataset/ag-news\n"
      ]
    },
    {
      "cell_type": "markdown",
      "id": "4a9801f9",
      "metadata": {
        "id": "4a9801f9"
      },
      "source": [
        "#### Install libraries (if needed)"
      ]
    },
    {
      "cell_type": "markdown",
      "id": "97QE07qUQXN4",
      "metadata": {
        "id": "97QE07qUQXN4"
      },
      "source": [
        "You may need to install the following libraries to ensure version compatibility. After installing them, please Restart the Session (Runtime -> Restart Session)"
      ]
    },
    {
      "cell_type": "code",
      "execution_count": 1,
      "id": "54394f53",
      "metadata": {
        "colab": {
          "base_uri": "https://localhost:8080/"
        },
        "id": "54394f53",
        "outputId": "edfcda85-526e-4eee-c3f3-d89c116e43f2"
      },
      "outputs": [
        {
          "output_type": "stream",
          "name": "stdout",
          "text": [
            "Collecting torch==2.0.1\n",
            "  Downloading torch-2.0.1-cp310-cp310-manylinux1_x86_64.whl.metadata (24 kB)\n",
            "Collecting torchvision==0.15.2\n",
            "  Downloading torchvision-0.15.2-cp310-cp310-manylinux1_x86_64.whl.metadata (11 kB)\n",
            "Collecting torchaudio==2.0.2\n",
            "  Downloading torchaudio-2.0.2-cp310-cp310-manylinux1_x86_64.whl.metadata (1.2 kB)\n",
            "Collecting torchtext==0.15.2\n",
            "  Downloading torchtext-0.15.2-cp310-cp310-manylinux1_x86_64.whl.metadata (7.4 kB)\n",
            "Requirement already satisfied: filelock in /usr/local/lib/python3.10/dist-packages (from torch==2.0.1) (3.16.1)\n",
            "Requirement already satisfied: typing-extensions in /usr/local/lib/python3.10/dist-packages (from torch==2.0.1) (4.12.2)\n",
            "Requirement already satisfied: sympy in /usr/local/lib/python3.10/dist-packages (from torch==2.0.1) (1.13.1)\n",
            "Requirement already satisfied: networkx in /usr/local/lib/python3.10/dist-packages (from torch==2.0.1) (3.4.2)\n",
            "Requirement already satisfied: jinja2 in /usr/local/lib/python3.10/dist-packages (from torch==2.0.1) (3.1.4)\n",
            "Collecting nvidia-cuda-nvrtc-cu11==11.7.99 (from torch==2.0.1)\n",
            "  Downloading nvidia_cuda_nvrtc_cu11-11.7.99-2-py3-none-manylinux1_x86_64.whl.metadata (1.5 kB)\n",
            "Collecting nvidia-cuda-runtime-cu11==11.7.99 (from torch==2.0.1)\n",
            "  Downloading nvidia_cuda_runtime_cu11-11.7.99-py3-none-manylinux1_x86_64.whl.metadata (1.6 kB)\n",
            "Collecting nvidia-cuda-cupti-cu11==11.7.101 (from torch==2.0.1)\n",
            "  Downloading nvidia_cuda_cupti_cu11-11.7.101-py3-none-manylinux1_x86_64.whl.metadata (1.6 kB)\n",
            "Collecting nvidia-cudnn-cu11==8.5.0.96 (from torch==2.0.1)\n",
            "  Downloading nvidia_cudnn_cu11-8.5.0.96-2-py3-none-manylinux1_x86_64.whl.metadata (1.6 kB)\n",
            "Collecting nvidia-cublas-cu11==11.10.3.66 (from torch==2.0.1)\n",
            "  Downloading nvidia_cublas_cu11-11.10.3.66-py3-none-manylinux1_x86_64.whl.metadata (1.6 kB)\n",
            "Collecting nvidia-cufft-cu11==10.9.0.58 (from torch==2.0.1)\n",
            "  Downloading nvidia_cufft_cu11-10.9.0.58-py3-none-manylinux2014_x86_64.whl.metadata (1.5 kB)\n",
            "Collecting nvidia-curand-cu11==10.2.10.91 (from torch==2.0.1)\n",
            "  Downloading nvidia_curand_cu11-10.2.10.91-py3-none-manylinux1_x86_64.whl.metadata (1.6 kB)\n",
            "Collecting nvidia-cusolver-cu11==11.4.0.1 (from torch==2.0.1)\n",
            "  Downloading nvidia_cusolver_cu11-11.4.0.1-2-py3-none-manylinux1_x86_64.whl.metadata (1.6 kB)\n",
            "Collecting nvidia-cusparse-cu11==11.7.4.91 (from torch==2.0.1)\n",
            "  Downloading nvidia_cusparse_cu11-11.7.4.91-py3-none-manylinux1_x86_64.whl.metadata (1.6 kB)\n",
            "Collecting nvidia-nccl-cu11==2.14.3 (from torch==2.0.1)\n",
            "  Downloading nvidia_nccl_cu11-2.14.3-py3-none-manylinux1_x86_64.whl.metadata (1.8 kB)\n",
            "Collecting nvidia-nvtx-cu11==11.7.91 (from torch==2.0.1)\n",
            "  Downloading nvidia_nvtx_cu11-11.7.91-py3-none-manylinux1_x86_64.whl.metadata (1.7 kB)\n",
            "Collecting triton==2.0.0 (from torch==2.0.1)\n",
            "  Downloading triton-2.0.0-1-cp310-cp310-manylinux2014_x86_64.manylinux_2_17_x86_64.whl.metadata (1.0 kB)\n",
            "Requirement already satisfied: numpy in /usr/local/lib/python3.10/dist-packages (from torchvision==0.15.2) (1.26.4)\n",
            "Requirement already satisfied: requests in /usr/local/lib/python3.10/dist-packages (from torchvision==0.15.2) (2.32.3)\n",
            "Requirement already satisfied: pillow!=8.3.*,>=5.3.0 in /usr/local/lib/python3.10/dist-packages (from torchvision==0.15.2) (10.4.0)\n",
            "Requirement already satisfied: tqdm in /usr/local/lib/python3.10/dist-packages (from torchtext==0.15.2) (4.66.6)\n",
            "Collecting torchdata==0.6.1 (from torchtext==0.15.2)\n",
            "  Downloading torchdata-0.6.1-cp310-cp310-manylinux_2_17_x86_64.manylinux2014_x86_64.whl.metadata (13 kB)\n",
            "Requirement already satisfied: setuptools in /usr/local/lib/python3.10/dist-packages (from nvidia-cublas-cu11==11.10.3.66->torch==2.0.1) (75.1.0)\n",
            "Requirement already satisfied: wheel in /usr/local/lib/python3.10/dist-packages (from nvidia-cublas-cu11==11.10.3.66->torch==2.0.1) (0.44.0)\n",
            "Requirement already satisfied: urllib3>=1.25 in /usr/local/lib/python3.10/dist-packages (from torchdata==0.6.1->torchtext==0.15.2) (2.2.3)\n",
            "Requirement already satisfied: cmake in /usr/local/lib/python3.10/dist-packages (from triton==2.0.0->torch==2.0.1) (3.30.5)\n",
            "Collecting lit (from triton==2.0.0->torch==2.0.1)\n",
            "  Downloading lit-18.1.8-py3-none-any.whl.metadata (2.5 kB)\n",
            "Requirement already satisfied: MarkupSafe>=2.0 in /usr/local/lib/python3.10/dist-packages (from jinja2->torch==2.0.1) (3.0.2)\n",
            "Requirement already satisfied: charset-normalizer<4,>=2 in /usr/local/lib/python3.10/dist-packages (from requests->torchvision==0.15.2) (3.4.0)\n",
            "Requirement already satisfied: idna<4,>=2.5 in /usr/local/lib/python3.10/dist-packages (from requests->torchvision==0.15.2) (3.10)\n",
            "Requirement already satisfied: certifi>=2017.4.17 in /usr/local/lib/python3.10/dist-packages (from requests->torchvision==0.15.2) (2024.8.30)\n",
            "Requirement already satisfied: mpmath<1.4,>=1.1.0 in /usr/local/lib/python3.10/dist-packages (from sympy->torch==2.0.1) (1.3.0)\n",
            "Downloading torch-2.0.1-cp310-cp310-manylinux1_x86_64.whl (619.9 MB)\n",
            "\u001b[2K   \u001b[90m━━━━━━━━━━━━━━━━━━━━━━━━━━━━━━━━━━━━━━━━\u001b[0m \u001b[32m619.9/619.9 MB\u001b[0m \u001b[31m3.6 MB/s\u001b[0m eta \u001b[36m0:00:00\u001b[0m\n",
            "\u001b[?25hDownloading torchvision-0.15.2-cp310-cp310-manylinux1_x86_64.whl (6.0 MB)\n",
            "\u001b[2K   \u001b[90m━━━━━━━━━━━━━━━━━━━━━━━━━━━━━━━━━━━━━━━━\u001b[0m \u001b[32m6.0/6.0 MB\u001b[0m \u001b[31m64.9 MB/s\u001b[0m eta \u001b[36m0:00:00\u001b[0m\n",
            "\u001b[?25hDownloading torchaudio-2.0.2-cp310-cp310-manylinux1_x86_64.whl (4.4 MB)\n",
            "\u001b[2K   \u001b[90m━━━━━━━━━━━━━━━━━━━━━━━━━━━━━━━━━━━━━━━━\u001b[0m \u001b[32m4.4/4.4 MB\u001b[0m \u001b[31m104.9 MB/s\u001b[0m eta \u001b[36m0:00:00\u001b[0m\n",
            "\u001b[?25hDownloading torchtext-0.15.2-cp310-cp310-manylinux1_x86_64.whl (2.0 MB)\n",
            "\u001b[2K   \u001b[90m━━━━━━━━━━━━━━━━━━━━━━━━━━━━━━━━━━━━━━━━\u001b[0m \u001b[32m2.0/2.0 MB\u001b[0m \u001b[31m76.4 MB/s\u001b[0m eta \u001b[36m0:00:00\u001b[0m\n",
            "\u001b[?25hDownloading nvidia_cublas_cu11-11.10.3.66-py3-none-manylinux1_x86_64.whl (317.1 MB)\n",
            "\u001b[2K   \u001b[90m━━━━━━━━━━━━━━━━━━━━━━━━━━━━━━━━━━━━━━━━\u001b[0m \u001b[32m317.1/317.1 MB\u001b[0m \u001b[31m4.8 MB/s\u001b[0m eta \u001b[36m0:00:00\u001b[0m\n",
            "\u001b[?25hDownloading nvidia_cuda_cupti_cu11-11.7.101-py3-none-manylinux1_x86_64.whl (11.8 MB)\n",
            "\u001b[2K   \u001b[90m━━━━━━━━━━━━━━━━━━━━━━━━━━━━━━━━━━━━━━━━\u001b[0m \u001b[32m11.8/11.8 MB\u001b[0m \u001b[31m51.3 MB/s\u001b[0m eta \u001b[36m0:00:00\u001b[0m\n",
            "\u001b[?25hDownloading nvidia_cuda_nvrtc_cu11-11.7.99-2-py3-none-manylinux1_x86_64.whl (21.0 MB)\n",
            "\u001b[2K   \u001b[90m━━━━━━━━━━━━━━━━━━━━━━━━━━━━━━━━━━━━━━━━\u001b[0m \u001b[32m21.0/21.0 MB\u001b[0m \u001b[31m34.1 MB/s\u001b[0m eta \u001b[36m0:00:00\u001b[0m\n",
            "\u001b[?25hDownloading nvidia_cuda_runtime_cu11-11.7.99-py3-none-manylinux1_x86_64.whl (849 kB)\n",
            "\u001b[2K   \u001b[90m━━━━━━━━━━━━━━━━━━━━━━━━━━━━━━━━━━━━━━━━\u001b[0m \u001b[32m849.3/849.3 kB\u001b[0m \u001b[31m33.3 MB/s\u001b[0m eta \u001b[36m0:00:00\u001b[0m\n",
            "\u001b[?25hDownloading nvidia_cudnn_cu11-8.5.0.96-2-py3-none-manylinux1_x86_64.whl (557.1 MB)\n",
            "\u001b[2K   \u001b[90m━━━━━━━━━━━━━━━━━━━━━━━━━━━━━━━━━━━━━━━━\u001b[0m \u001b[32m557.1/557.1 MB\u001b[0m \u001b[31m3.3 MB/s\u001b[0m eta \u001b[36m0:00:00\u001b[0m\n",
            "\u001b[?25hDownloading nvidia_cufft_cu11-10.9.0.58-py3-none-manylinux2014_x86_64.whl (168.4 MB)\n",
            "\u001b[2K   \u001b[90m━━━━━━━━━━━━━━━━━━━━━━━━━━━━━━━━━━━━━━━━\u001b[0m \u001b[32m168.4/168.4 MB\u001b[0m \u001b[31m9.3 MB/s\u001b[0m eta \u001b[36m0:00:00\u001b[0m\n",
            "\u001b[?25hDownloading nvidia_curand_cu11-10.2.10.91-py3-none-manylinux1_x86_64.whl (54.6 MB)\n",
            "\u001b[2K   \u001b[90m━━━━━━━━━━━━━━━━━━━━━━━━━━━━━━━━━━━━━━━━\u001b[0m \u001b[32m54.6/54.6 MB\u001b[0m \u001b[31m12.4 MB/s\u001b[0m eta \u001b[36m0:00:00\u001b[0m\n",
            "\u001b[?25hDownloading nvidia_cusolver_cu11-11.4.0.1-2-py3-none-manylinux1_x86_64.whl (102.6 MB)\n",
            "\u001b[2K   \u001b[90m━━━━━━━━━━━━━━━━━━━━━━━━━━━━━━━━━━━━━━━━\u001b[0m \u001b[32m102.6/102.6 MB\u001b[0m \u001b[31m7.9 MB/s\u001b[0m eta \u001b[36m0:00:00\u001b[0m\n",
            "\u001b[?25hDownloading nvidia_cusparse_cu11-11.7.4.91-py3-none-manylinux1_x86_64.whl (173.2 MB)\n",
            "\u001b[2K   \u001b[90m━━━━━━━━━━━━━━━━━━━━━━━━━━━━━━━━━━━━━━━━\u001b[0m \u001b[32m173.2/173.2 MB\u001b[0m \u001b[31m7.3 MB/s\u001b[0m eta \u001b[36m0:00:00\u001b[0m\n",
            "\u001b[?25hDownloading nvidia_nccl_cu11-2.14.3-py3-none-manylinux1_x86_64.whl (177.1 MB)\n",
            "\u001b[2K   \u001b[90m━━━━━━━━━━━━━━━━━━━━━━━━━━━━━━━━━━━━━━━━\u001b[0m \u001b[32m177.1/177.1 MB\u001b[0m \u001b[31m6.8 MB/s\u001b[0m eta \u001b[36m0:00:00\u001b[0m\n",
            "\u001b[?25hDownloading nvidia_nvtx_cu11-11.7.91-py3-none-manylinux1_x86_64.whl (98 kB)\n",
            "\u001b[2K   \u001b[90m━━━━━━━━━━━━━━━━━━━━━━━━━━━━━━━━━━━━━━━━\u001b[0m \u001b[32m98.6/98.6 kB\u001b[0m \u001b[31m8.4 MB/s\u001b[0m eta \u001b[36m0:00:00\u001b[0m\n",
            "\u001b[?25hDownloading torchdata-0.6.1-cp310-cp310-manylinux_2_17_x86_64.manylinux2014_x86_64.whl (4.6 MB)\n",
            "\u001b[2K   \u001b[90m━━━━━━━━━━━━━━━━━━━━━━━━━━━━━━━━━━━━━━━━\u001b[0m \u001b[32m4.6/4.6 MB\u001b[0m \u001b[31m64.3 MB/s\u001b[0m eta \u001b[36m0:00:00\u001b[0m\n",
            "\u001b[?25hDownloading triton-2.0.0-1-cp310-cp310-manylinux2014_x86_64.manylinux_2_17_x86_64.whl (63.3 MB)\n",
            "\u001b[2K   \u001b[90m━━━━━━━━━━━━━━━━━━━━━━━━━━━━━━━━━━━━━━━━\u001b[0m \u001b[32m63.3/63.3 MB\u001b[0m \u001b[31m11.9 MB/s\u001b[0m eta \u001b[36m0:00:00\u001b[0m\n",
            "\u001b[?25hDownloading lit-18.1.8-py3-none-any.whl (96 kB)\n",
            "\u001b[2K   \u001b[90m━━━━━━━━━━━━━━━━━━━━━━━━━━━━━━━━━━━━━━━━\u001b[0m \u001b[32m96.4/96.4 kB\u001b[0m \u001b[31m9.7 MB/s\u001b[0m eta \u001b[36m0:00:00\u001b[0m\n",
            "\u001b[?25hInstalling collected packages: lit, nvidia-nvtx-cu11, nvidia-nccl-cu11, nvidia-cusparse-cu11, nvidia-curand-cu11, nvidia-cufft-cu11, nvidia-cuda-runtime-cu11, nvidia-cuda-nvrtc-cu11, nvidia-cuda-cupti-cu11, nvidia-cublas-cu11, nvidia-cusolver-cu11, nvidia-cudnn-cu11, triton, torch, torchdata, torchvision, torchtext, torchaudio\n",
            "  Attempting uninstall: torch\n",
            "    Found existing installation: torch 2.5.0+cu121\n",
            "    Uninstalling torch-2.5.0+cu121:\n",
            "      Successfully uninstalled torch-2.5.0+cu121\n",
            "  Attempting uninstall: torchvision\n",
            "    Found existing installation: torchvision 0.20.0+cu121\n",
            "    Uninstalling torchvision-0.20.0+cu121:\n",
            "      Successfully uninstalled torchvision-0.20.0+cu121\n",
            "  Attempting uninstall: torchaudio\n",
            "    Found existing installation: torchaudio 2.5.0+cu121\n",
            "    Uninstalling torchaudio-2.5.0+cu121:\n",
            "      Successfully uninstalled torchaudio-2.5.0+cu121\n",
            "Successfully installed lit-18.1.8 nvidia-cublas-cu11-11.10.3.66 nvidia-cuda-cupti-cu11-11.7.101 nvidia-cuda-nvrtc-cu11-11.7.99 nvidia-cuda-runtime-cu11-11.7.99 nvidia-cudnn-cu11-8.5.0.96 nvidia-cufft-cu11-10.9.0.58 nvidia-curand-cu11-10.2.10.91 nvidia-cusolver-cu11-11.4.0.1 nvidia-cusparse-cu11-11.7.4.91 nvidia-nccl-cu11-2.14.3 nvidia-nvtx-cu11-11.7.91 torch-2.0.1 torchaudio-2.0.2 torchdata-0.6.1 torchtext-0.15.2 torchvision-0.15.2 triton-2.0.0\n"
          ]
        }
      ],
      "source": [
        "!pip install torch==2.0.1 torchvision==0.15.2 torchaudio==2.0.2 torchtext==0.15.2"
      ]
    },
    {
      "cell_type": "code",
      "execution_count": 1,
      "id": "3m9B33A8QOiI",
      "metadata": {
        "colab": {
          "base_uri": "https://localhost:8080/"
        },
        "id": "3m9B33A8QOiI",
        "outputId": "a70715ed-75fe-4e5d-85e4-c379d7d9e7ad"
      },
      "outputs": [
        {
          "output_type": "stream",
          "name": "stdout",
          "text": [
            "Requirement already satisfied: scipy==1.9.3 in /usr/local/lib/python3.10/dist-packages (1.9.3)\n",
            "Requirement already satisfied: numpy<1.26.0,>=1.18.5 in /usr/local/lib/python3.10/dist-packages (from scipy==1.9.3) (1.25.2)\n",
            "Collecting scikit-plot\n",
            "  Using cached scikit_plot-0.3.7-py3-none-any.whl.metadata (7.1 kB)\n",
            "Requirement already satisfied: matplotlib>=1.4.0 in /usr/local/lib/python3.10/dist-packages (from scikit-plot) (3.8.0)\n",
            "Requirement already satisfied: scikit-learn>=0.18 in /usr/local/lib/python3.10/dist-packages (from scikit-plot) (1.5.2)\n",
            "Requirement already satisfied: scipy>=0.9 in /usr/local/lib/python3.10/dist-packages (from scikit-plot) (1.9.3)\n",
            "Requirement already satisfied: joblib>=0.10 in /usr/local/lib/python3.10/dist-packages (from scikit-plot) (1.4.2)\n",
            "Requirement already satisfied: contourpy>=1.0.1 in /usr/local/lib/python3.10/dist-packages (from matplotlib>=1.4.0->scikit-plot) (1.3.0)\n",
            "Requirement already satisfied: cycler>=0.10 in /usr/local/lib/python3.10/dist-packages (from matplotlib>=1.4.0->scikit-plot) (0.12.1)\n",
            "Requirement already satisfied: fonttools>=4.22.0 in /usr/local/lib/python3.10/dist-packages (from matplotlib>=1.4.0->scikit-plot) (4.54.1)\n",
            "Requirement already satisfied: kiwisolver>=1.0.1 in /usr/local/lib/python3.10/dist-packages (from matplotlib>=1.4.0->scikit-plot) (1.4.7)\n",
            "Requirement already satisfied: numpy<2,>=1.21 in /usr/local/lib/python3.10/dist-packages (from matplotlib>=1.4.0->scikit-plot) (1.25.2)\n",
            "Requirement already satisfied: packaging>=20.0 in /usr/local/lib/python3.10/dist-packages (from matplotlib>=1.4.0->scikit-plot) (24.1)\n",
            "Requirement already satisfied: pillow>=6.2.0 in /usr/local/lib/python3.10/dist-packages (from matplotlib>=1.4.0->scikit-plot) (10.4.0)\n",
            "Requirement already satisfied: pyparsing>=2.3.1 in /usr/local/lib/python3.10/dist-packages (from matplotlib>=1.4.0->scikit-plot) (3.2.0)\n",
            "Requirement already satisfied: python-dateutil>=2.7 in /usr/local/lib/python3.10/dist-packages (from matplotlib>=1.4.0->scikit-plot) (2.8.2)\n",
            "Requirement already satisfied: threadpoolctl>=3.1.0 in /usr/local/lib/python3.10/dist-packages (from scikit-learn>=0.18->scikit-plot) (3.5.0)\n",
            "Requirement already satisfied: six>=1.5 in /usr/local/lib/python3.10/dist-packages (from python-dateutil>=2.7->matplotlib>=1.4.0->scikit-plot) (1.16.0)\n",
            "Using cached scikit_plot-0.3.7-py3-none-any.whl (33 kB)\n",
            "Installing collected packages: scikit-plot\n",
            "Successfully installed scikit-plot-0.3.7\n"
          ]
        }
      ],
      "source": [
        "!pip install scipy==1.9.3\n",
        "!pip install scikit-plot\n",
        "#you may receive a message of restarting session, this is OK"
      ]
    },
    {
      "cell_type": "code",
      "execution_count": 2,
      "id": "SfzuGL4LQRGc",
      "metadata": {
        "colab": {
          "base_uri": "https://localhost:8080/"
        },
        "id": "SfzuGL4LQRGc",
        "outputId": "7a0f3aba-41c8-48f0-dec5-5b88642dbb6f"
      },
      "outputs": [
        {
          "output_type": "stream",
          "name": "stdout",
          "text": [
            "Collecting portalocker\n",
            "  Downloading portalocker-2.10.1-py3-none-any.whl.metadata (8.5 kB)\n",
            "Downloading portalocker-2.10.1-py3-none-any.whl (18 kB)\n",
            "Installing collected packages: portalocker\n",
            "Successfully installed portalocker-2.10.1\n"
          ]
        }
      ],
      "source": [
        "!pip install portalocker\n",
        "#please restar session after this intallation. After restarting go straight to importing the libraries"
      ]
    },
    {
      "cell_type": "markdown",
      "id": "9IUa6uRqQtGu",
      "metadata": {
        "id": "9IUa6uRqQtGu"
      },
      "source": [
        "## Import libraries"
      ]
    },
    {
      "cell_type": "code",
      "execution_count": 1,
      "id": "878b524f",
      "metadata": {
        "id": "878b524f"
      },
      "outputs": [],
      "source": [
        "# The following libraries are required for running the given code\n",
        "# Please feel free to add any libraries you consider adecuate to complete the assingment.\n",
        "import numpy as np\n",
        "#PyTorch libraries\n",
        "import torch\n",
        "from torchtext.datasets import AG_NEWS\n",
        "# Dataloader library\n",
        "from torch.utils.data import DataLoader\n",
        "from torch.utils.data.dataset import random_split\n",
        "# Libraries to prepare the data\n",
        "from torchtext.data.utils import get_tokenizer\n",
        "from torchtext.vocab import build_vocab_from_iterator\n",
        "from torchtext.data.functional import to_map_style_dataset\n",
        "# neural layers\n",
        "from torch import nn\n",
        "from torch.nn import functional as F\n",
        "\n",
        "# These libraries are suggested to plot confusion matrix\n",
        "# you may use others\n",
        "import scikitplot as skplt\n",
        "import gc"
      ]
    },
    {
      "cell_type": "code",
      "execution_count": 2,
      "id": "3bab55f3",
      "metadata": {
        "id": "3bab55f3",
        "colab": {
          "base_uri": "https://localhost:8080/"
        },
        "outputId": "bbd00842-f3b0-4e12-baa4-be7a4637a808"
      },
      "outputs": [
        {
          "output_type": "stream",
          "name": "stdout",
          "text": [
            "cuda\n"
          ]
        }
      ],
      "source": [
        "# Use GPU if available\n",
        "device = torch.device(\"cuda\" if torch.cuda.is_available() else \"cpu\")\n",
        "print(device)"
      ]
    },
    {
      "cell_type": "markdown",
      "id": "3d38956d",
      "metadata": {
        "id": "3d38956d"
      },
      "source": [
        "### Get the train and the test datasets and dataloaders"
      ]
    },
    {
      "cell_type": "markdown",
      "id": "e9c6b784",
      "metadata": {
        "id": "e9c6b784"
      },
      "source": [
        "Classes:\n",
        "\n",
        "* 1 - World\n",
        "\n",
        "* 2 - Sports\n",
        "\n",
        "* 3 - Business\n",
        "\n",
        "* 4 - Sci/Tech\n",
        "\n",
        "We will convert them to:\n",
        "\n",
        "* 0 - World\n",
        "\n",
        "* 1 - Sports\n",
        "\n",
        "* 2 - Business\n",
        "\n",
        "* 3 - Sci/Tech"
      ]
    },
    {
      "cell_type": "code",
      "execution_count": 3,
      "id": "49fbed19",
      "metadata": {
        "id": "49fbed19"
      },
      "outputs": [],
      "source": [
        "train_dataset, test_dataset = AG_NEWS()\n",
        "train_dataset, test_dataset = to_map_style_dataset(train_dataset), to_map_style_dataset(test_dataset)"
      ]
    },
    {
      "cell_type": "code",
      "execution_count": 4,
      "id": "9c372eb9",
      "metadata": {
        "id": "9c372eb9"
      },
      "outputs": [],
      "source": [
        "# Get the tokeniser\n",
        "# tokeniser object\n",
        "tokeniser = get_tokenizer('basic_english')\n",
        "\n",
        "def yield_tokens(data):\n",
        "    for _, text in data:\n",
        "        yield tokeniser(text)"
      ]
    },
    {
      "cell_type": "code",
      "execution_count": 5,
      "id": "794d0375",
      "metadata": {
        "id": "794d0375"
      },
      "outputs": [],
      "source": [
        "# Build the vocabulary\n",
        "vocab = build_vocab_from_iterator(yield_tokens(train_dataset), specials=[\"<unk>\"])\n",
        "#set unknown token at position 0\n",
        "vocab.set_default_index(vocab[\"<unk>\"])"
      ]
    },
    {
      "cell_type": "code",
      "execution_count": 6,
      "id": "b48268d4",
      "metadata": {
        "id": "b48268d4",
        "colab": {
          "base_uri": "https://localhost:8080/"
        },
        "outputId": "d4349e2b-538c-4a32-987f-0e1953c65c32"
      },
      "outputs": [
        {
          "output_type": "stream",
          "name": "stdout",
          "text": [
            "['welcome', 'to', 'tc5033'] [3314, 4, 0]\n"
          ]
        }
      ],
      "source": [
        "#test tokens\n",
        "tokens = tokeniser('Welcome to TC5033')\n",
        "print(tokens, vocab(tokens))"
      ]
    },
    {
      "cell_type": "code",
      "execution_count": 7,
      "id": "c8c8f6a6",
      "metadata": {
        "id": "c8c8f6a6"
      },
      "outputs": [],
      "source": [
        "NUM_TRAIN = int(len(train_dataset)*0.9)\n",
        "NUM_VAL = len(train_dataset) - NUM_TRAIN"
      ]
    },
    {
      "cell_type": "code",
      "execution_count": 8,
      "id": "8290895e",
      "metadata": {
        "id": "8290895e"
      },
      "outputs": [],
      "source": [
        "train_dataset, val_dataset = random_split(train_dataset, [NUM_TRAIN, NUM_VAL])"
      ]
    },
    {
      "cell_type": "code",
      "execution_count": 9,
      "id": "cbc75b54",
      "metadata": {
        "id": "cbc75b54",
        "colab": {
          "base_uri": "https://localhost:8080/"
        },
        "outputId": "49daef1d-a666-415e-8bfb-0ec6adcb5ec3"
      },
      "outputs": [
        {
          "output_type": "stream",
          "name": "stdout",
          "text": [
            "108000 12000 7600\n"
          ]
        }
      ],
      "source": [
        "print(len(train_dataset), len(val_dataset), len(test_dataset))"
      ]
    },
    {
      "cell_type": "code",
      "execution_count": 10,
      "id": "ffdbf077",
      "metadata": {
        "id": "ffdbf077"
      },
      "outputs": [],
      "source": [
        "# function passed to the DataLoader to process a batch of data as indicated\n",
        "def collate_batch(batch):\n",
        "    # Get label and text\n",
        "    y, x = list(zip(*batch))\n",
        "\n",
        "    # Create list with indices from tokeniser\n",
        "    x = [vocab(tokeniser(text)) for text in x]\n",
        "    x = [t + ([0]*(max_tokens - len(t))) if len(t) < max_tokens else t[:max_tokens] for t in x]\n",
        "\n",
        "    # Prepare the labels, by subtracting 1 to get them in the range 0-3\n",
        "    return torch.tensor(x, dtype=torch.int32), torch.tensor(y, dtype=torch.int32) - 1"
      ]
    },
    {
      "cell_type": "code",
      "execution_count": 11,
      "id": "5eb459c7",
      "metadata": {
        "id": "5eb459c7"
      },
      "outputs": [],
      "source": [
        "labels =  [\"World\", \"Sports\", \"Business\", \"Sci/Tech\"]\n",
        "max_tokens = 50\n",
        "BATCH_SIZE = 256"
      ]
    },
    {
      "cell_type": "code",
      "execution_count": 12,
      "id": "0a55e6ee",
      "metadata": {
        "id": "0a55e6ee"
      },
      "outputs": [],
      "source": [
        "train_loader = DataLoader(train_dataset, batch_size=BATCH_SIZE, collate_fn=collate_batch, shuffle = True)\n",
        "val_loader = DataLoader(val_dataset, batch_size=BATCH_SIZE, collate_fn=collate_batch, shuffle = True)\n",
        "test_loader = DataLoader(test_dataset, batch_size=BATCH_SIZE, collate_fn=collate_batch, shuffle = True)"
      ]
    },
    {
      "cell_type": "markdown",
      "id": "47b98898",
      "metadata": {
        "id": "47b98898"
      },
      "source": [
        "### Let us build our RNN model"
      ]
    },
    {
      "cell_type": "code",
      "execution_count": 34,
      "id": "50f20793",
      "metadata": {
        "id": "50f20793"
      },
      "outputs": [],
      "source": [
        "EMBEDDING_SIZE = 300\n",
        "NEURONS = 256\n",
        "LAYERS = 2\n",
        "NUM_CLASSES = 4"
      ]
    },
    {
      "cell_type": "code",
      "execution_count": 35,
      "id": "0f7f5621",
      "metadata": {
        "id": "0f7f5621"
      },
      "outputs": [],
      "source": [
        "class RNN_Model_1(nn.Module):\n",
        "    def __init__(self, embed_size, hidden, layers, num_classes):\n",
        "        super().__init__()\n",
        "        self.embedding_layer = nn.Embedding(num_embeddings=len(vocab),\n",
        "                                            embedding_dim=embed_size)\n",
        "\n",
        "        # RNN layer (LSTM chosen here) for sequential data processing\n",
        "        # Using LSTM for better performance in learning long-term dependencies\n",
        "        self.rnn = nn.LSTM(input_size=embed_size,\n",
        "                           hidden_size=hidden,\n",
        "                           num_layers=layers,\n",
        "                           batch_first=True)\n",
        "\n",
        "        # Fully connected layer to project the RNN output to the number of classes\n",
        "        self.fc = nn.Linear(in_features=hidden, out_features=num_classes)\n",
        "\n",
        "    def forward(self, x):\n",
        "        # Step 1: Embedding Layer\n",
        "        x = self.embedding_layer(x)  # Convert token indices to embeddings\n",
        "                                     # Output shape: (batch_size, sequence_length, embed_size)\n",
        "\n",
        "        # Step 2: RNN layer\n",
        "        # Pass the embeddings through the LSTM layer\n",
        "        rnn_out, _ = self.rnn(x)  # rnn_out shape: (batch_size, sequence_length, hidden)\n",
        "\n",
        "        # Step 3: Select the output of the last time step\n",
        "        # Taking the last time step for classification purposes\n",
        "        last_time_step = rnn_out[:, -1, :]  # Shape: (batch_size, hidden)\n",
        "\n",
        "        # Step 4: Fully connected layer\n",
        "        out = self.fc(last_time_step)  # Shape: (batch_size, num_classes)\n",
        "\n",
        "        return out"
      ]
    },
    {
      "cell_type": "code",
      "source": [
        "class RNN_Model_2(nn.Module):\n",
        "    def __init__(self, embed_size, hidden, layers, num_classes):\n",
        "        super().__init__()\n",
        "        self.embedding_layer = nn.Embedding(num_embeddings=len(vocab),\n",
        "                                            embedding_dim=embed_size)\n",
        "\n",
        "        # GRU layer for sequential data processing\n",
        "        self.rnn = nn.GRU(input_size=embed_size,\n",
        "                          hidden_size=hidden,\n",
        "                          num_layers=layers,\n",
        "                          batch_first=True)\n",
        "\n",
        "        # Fully connected layer to project the GRU output to the number of classes\n",
        "        self.fc = nn.Linear(in_features=hidden, out_features=num_classes)\n",
        "\n",
        "    def forward(self, x):\n",
        "        # Step 1: Embedding Layer\n",
        "        x = self.embedding_layer(x)  # Output shape: (batch_size, sequence_length, embed_size)\n",
        "\n",
        "        # Step 2: GRU layer\n",
        "        rnn_out, _ = self.rnn(x)  # Output shape: (batch_size, sequence_length, hidden)\n",
        "\n",
        "        # Step 3: Select the output of the last time step\n",
        "        last_time_step = rnn_out[:, -1, :]  # Shape: (batch_size, hidden)\n",
        "\n",
        "        # Step 4: Fully connected layer\n",
        "        out = self.fc(last_time_step)  # Shape: (batch_size, num_classes)\n",
        "\n",
        "        return out"
      ],
      "metadata": {
        "id": "lPoriYUXocUg"
      },
      "id": "lPoriYUXocUg",
      "execution_count": 36,
      "outputs": []
    },
    {
      "cell_type": "code",
      "source": [
        "class RNN_Model_3(nn.Module):\n",
        "    def __init__(self, embed_size, hidden, layers, num_classes):\n",
        "        super().__init__()\n",
        "        self.embedding_layer = nn.Embedding(num_embeddings=len(vocab),\n",
        "                                            embedding_dim=embed_size)\n",
        "\n",
        "        # Simple RNN layer for sequential data processing\n",
        "        self.rnn = nn.RNN(input_size=embed_size,\n",
        "                          hidden_size=hidden,\n",
        "                          num_layers=layers,\n",
        "                          batch_first=True)\n",
        "\n",
        "        # Fully connected layer to project the RNN output to the number of classes\n",
        "        self.fc = nn.Linear(in_features=hidden, out_features=num_classes)\n",
        "\n",
        "    def forward(self, x):\n",
        "        # Step 1: Embedding Layer\n",
        "        x = self.embedding_layer(x)  # Output shape: (batch_size, sequence_length, embed_size)\n",
        "\n",
        "        # Step 2: RNN layer\n",
        "        rnn_out, _ = self.rnn(x)  # Output shape: (batch_size, sequence_length, hidden)\n",
        "\n",
        "        # Step 3: Select the output of the last time step\n",
        "        last_time_step = rnn_out[:, -1, :]  # Shape: (batch_size, hidden)\n",
        "\n",
        "        # Step 4: Fully connected layer\n",
        "        out = self.fc(last_time_step)  # Shape: (batch_size, num_classes)\n",
        "\n",
        "        return out"
      ],
      "metadata": {
        "id": "E9BcSC_1odvV"
      },
      "id": "E9BcSC_1odvV",
      "execution_count": 37,
      "outputs": []
    },
    {
      "cell_type": "code",
      "execution_count": 38,
      "id": "2a42613f",
      "metadata": {
        "code_folding": [],
        "id": "2a42613f"
      },
      "outputs": [],
      "source": [
        "def accuracy(model, loader):\n",
        "    model.eval()  # Set the model to evaluation mode\n",
        "    correct = 0\n",
        "    total = 0\n",
        "\n",
        "    with torch.no_grad():  # Disable gradient calculations for faster computation\n",
        "        for data, labels in loader:\n",
        "            # Forward pass: Get predictions\n",
        "            outputs = model(data)\n",
        "            _, predicted = torch.max(outputs, 1)  # Get the index of the highest probability\n",
        "\n",
        "            # Update total and correct counts\n",
        "            total += labels.size(0)\n",
        "            correct += (predicted == labels).sum().item()\n",
        "\n",
        "    # Calculate accuracy\n",
        "    accuracy = 100 * correct / total\n",
        "    return accuracy"
      ]
    },
    {
      "cell_type": "code",
      "execution_count": 40,
      "id": "5e843e1f",
      "metadata": {
        "code_folding": [],
        "id": "5e843e1f"
      },
      "outputs": [],
      "source": [
        "from tqdm import tqdm\n",
        "\n",
        "def train(model, optimiser, epochs=100, patience=2, min_delta=0.01):\n",
        "    criterion = nn.CrossEntropyLoss()  # Loss function for classification\n",
        "    best_val_accuracy = 0.0  # Track the best validation accuracy\n",
        "    patience_counter = 0  # Count epochs without significant improvement\n",
        "\n",
        "    for epoch in range(epochs):\n",
        "        # Set model to training mode\n",
        "        model.train()\n",
        "\n",
        "        running_loss = 0.0\n",
        "        for inputs, labels in tqdm(train_loader, desc=f\"Epoch {epoch+1}/{epochs}\"):\n",
        "            # Ensure labels are of correct type\n",
        "            labels = labels.to(torch.long)\n",
        "\n",
        "            optimiser.zero_grad()  # Reset gradients for each batch\n",
        "\n",
        "            # Forward pass\n",
        "            outputs = model(inputs)\n",
        "            loss = criterion(outputs, labels)\n",
        "\n",
        "            # Backward pass and optimization\n",
        "            loss.backward()\n",
        "            optimiser.step()\n",
        "\n",
        "            running_loss += loss.item()  # Accumulate loss for this epoch\n",
        "\n",
        "        # Print average loss for this epoch\n",
        "        avg_loss = running_loss / len(train_loader)\n",
        "        print(f\"Epoch [{epoch+1}/{epochs}], Loss: {avg_loss:.4f}\")\n",
        "\n",
        "        # Validation phase\n",
        "        val_acc = accuracy(model, val_loader)\n",
        "        print(f\"Validation Accuracy: {val_acc:.2f}%\")\n",
        "\n",
        "        # Check if validation accuracy improved by more than `min_delta`\n",
        "        if val_acc > best_val_accuracy + min_delta:\n",
        "            best_val_accuracy = val_acc  # Update best accuracy\n",
        "            patience_counter = 0  # Reset patience counter\n",
        "            print(f\"Improved validation accuracy to {val_acc:.2f}%\")\n",
        "        else:\n",
        "            patience_counter += 1  # Increment patience counter\n",
        "            print(f\"No significant improvement. Patience counter: {patience_counter}/{patience}\")\n",
        "\n",
        "        # Early stopping if patience is exceeded\n",
        "        if patience_counter >= patience:\n",
        "            print(\"Early stopping due to no significant improvement in validation accuracy.\")\n",
        "            break\n",
        "\n",
        "    print(\"Training complete.\")\n",
        "\n"
      ]
    },
    {
      "cell_type": "code",
      "execution_count": 41,
      "id": "87775b29",
      "metadata": {
        "id": "87775b29"
      },
      "outputs": [],
      "source": [
        "# Define the number of epochs and learning rate\n",
        "epochs = 20  # You can adjust this value based on the model's performance\n",
        "lr = 0.001   # Typical initial learning rate for Adam optimizer\n",
        "\n",
        "# Instantiate the models\n",
        "lstm_model = RNN_Model_1(EMBEDDING_SIZE, NEURONS, LAYERS, NUM_CLASSES)\n",
        "gru_model = RNN_Model_2(EMBEDDING_SIZE, NEURONS, LAYERS, NUM_CLASSES)\n",
        "simple_rnn_model = RNN_Model_3(EMBEDDING_SIZE, NEURONS, LAYERS, NUM_CLASSES)\n",
        "\n",
        "# Define optimizer (use the same for all models)\n",
        "optimizer_lstm = torch.optim.Adam(lstm_model.parameters(), lr)\n",
        "optimizer_gru = torch.optim.Adam(gru_model.parameters(), lr)\n",
        "optimizer_rnn = torch.optim.Adam(simple_rnn_model.parameters(), lr)\n"
      ]
    },
    {
      "cell_type": "code",
      "execution_count": 43,
      "id": "aec12a1b",
      "metadata": {
        "id": "aec12a1b",
        "scrolled": true,
        "colab": {
          "base_uri": "https://localhost:8080/"
        },
        "outputId": "71ba2196-ef27-4c3f-aad6-ede3340f869a"
      },
      "outputs": [
        {
          "output_type": "stream",
          "name": "stdout",
          "text": [
            "Training and evaluating each model...\n",
            "\n",
            "Training LSTM Model...\n"
          ]
        },
        {
          "output_type": "stream",
          "name": "stderr",
          "text": [
            "Epoch 1/1: 100%|██████████| 422/422 [11:01<00:00,  1.57s/it]\n"
          ]
        },
        {
          "output_type": "stream",
          "name": "stdout",
          "text": [
            "Epoch [1/1], Loss: 0.2197\n",
            "Validation Accuracy: 90.58%\n",
            "Improved validation accuracy to 90.58%\n",
            "Training complete.\n",
            "LSTM Model Test Accuracy: 90.6184\n",
            "\n",
            "Training GRU Model...\n"
          ]
        },
        {
          "output_type": "stream",
          "name": "stderr",
          "text": [
            "Epoch 1/1: 100%|██████████| 422/422 [09:38<00:00,  1.37s/it]\n"
          ]
        },
        {
          "output_type": "stream",
          "name": "stdout",
          "text": [
            "Epoch [1/1], Loss: 0.5574\n",
            "Validation Accuracy: 88.53%\n",
            "Improved validation accuracy to 88.53%\n",
            "Training complete.\n",
            "GRU Model Test Accuracy: 89.0000\n",
            "\n",
            "Training Simple RNN Model...\n"
          ]
        },
        {
          "output_type": "stream",
          "name": "stderr",
          "text": [
            "Epoch 1/1: 100%|██████████| 422/422 [05:09<00:00,  1.36it/s]\n"
          ]
        },
        {
          "output_type": "stream",
          "name": "stdout",
          "text": [
            "Epoch [1/1], Loss: 1.3729\n",
            "Validation Accuracy: 32.93%\n",
            "Improved validation accuracy to 32.93%\n",
            "Training complete.\n",
            "Simple RNN Model Test Accuracy: 32.6842\n",
            "\n"
          ]
        }
      ],
      "source": [
        "# Train and evaluate each model\n",
        "print(\"Training and evaluating each model...\\n\")\n",
        "\n",
        "# Train and evaluate LSTM model\n",
        "print(\"Training LSTM Model...\")\n",
        "train(lstm_model, optimizer_lstm, epochs=1)\n",
        "lstm_accuracy = accuracy(lstm_model, test_loader)\n",
        "print(f\"LSTM Model Test Accuracy: {lstm_accuracy:.4f}\\n\")\n",
        "\n",
        "# Train and evaluate GRU model\n",
        "print(\"Training GRU Model...\")\n",
        "train(gru_model, optimizer_gru, epochs=1)\n",
        "gru_accuracy = accuracy(gru_model, test_loader)\n",
        "print(f\"GRU Model Test Accuracy: {gru_accuracy:.4f}\\n\")\n",
        "\n",
        "# Train and evaluate Simple RNN model\n",
        "print(\"Training Simple RNN Model...\")\n",
        "train(simple_rnn_model, optimizer_rnn, epochs=1)\n",
        "simple_rnn_accuracy = accuracy(simple_rnn_model, test_loader)\n",
        "print(f\"Simple RNN Model Test Accuracy: {simple_rnn_accuracy:.4f}\\n\")"
      ]
    },
    {
      "cell_type": "code",
      "execution_count": 44,
      "id": "7a3ef175",
      "metadata": {
        "id": "7a3ef175",
        "colab": {
          "base_uri": "https://localhost:8080/"
        },
        "outputId": "96f59314-8cc8-46e1-f340-967b4da115fd"
      },
      "outputs": [
        {
          "output_type": "stream",
          "name": "stdout",
          "text": [
            "Model Performance Summary:\n",
            "LSTM Model Test Accuracy: 90.6184\n",
            "GRU Model Test Accuracy: 89.0000\n",
            "Simple RNN Model Test Accuracy: 32.6842\n"
          ]
        }
      ],
      "source": [
        "# Summary of results\n",
        "print(\"Model Performance Summary:\")\n",
        "print(f\"LSTM Model Test Accuracy: {lstm_accuracy:.4f}\")\n",
        "print(f\"GRU Model Test Accuracy: {gru_accuracy:.4f}\")\n",
        "print(f\"Simple RNN Model Test Accuracy: {simple_rnn_accuracy:.4f}\")"
      ]
    },
    {
      "cell_type": "code",
      "execution_count": 52,
      "id": "ed30693d",
      "metadata": {
        "id": "ed30693d"
      },
      "outputs": [],
      "source": [
        "import random\n",
        "\n",
        "def sample_text(models, model_names, loader, vocab, num_samples=5):\n",
        "    assert len(models) == len(model_names), \"Each model must have a corresponding name.\"\n",
        "\n",
        "    # Set models to evaluation mode\n",
        "    for model in models:\n",
        "        model.eval()\n",
        "\n",
        "    examples = []\n",
        "\n",
        "    # Collect predictions and true labels\n",
        "    with torch.no_grad():\n",
        "        for inputs, labels in loader:\n",
        "            # Get the batch size for random sampling\n",
        "            batch_size = inputs.shape[0]\n",
        "\n",
        "            # Get predictions for each model\n",
        "            model_predictions = []\n",
        "            for model in models:\n",
        "                outputs = model(inputs)\n",
        "                predicted_classes = torch.argmax(outputs, dim=1)\n",
        "                model_predictions.append(predicted_classes.cpu().numpy())\n",
        "\n",
        "            # Convert true labels to a list\n",
        "            labels = labels.cpu().numpy()\n",
        "\n",
        "            # Randomly sample indices from the batch\n",
        "            sample_indices = random.sample(range(batch_size), min(num_samples, batch_size))\n",
        "\n",
        "            # Gather the original texts, predicted classes, and true labels\n",
        "            for idx in sample_indices:\n",
        "                original_text = \" \".join([vocab.lookup_token(i) for i in inputs[idx].cpu().numpy() if i != vocab[\"<pad>\"]])\n",
        "                true_label = labels[idx]\n",
        "                predictions = [model_pred[idx] for model_pred in model_predictions]\n",
        "\n",
        "                examples.append((original_text, predictions, true_label))\n",
        "\n",
        "            # Stop once we have collected enough examples\n",
        "            if len(examples) >= num_samples:\n",
        "                break\n",
        "\n",
        "    # Display the examples\n",
        "    print(\"Sample Predictions from All Models:\")\n",
        "    for i, (text, preds, true) in enumerate(examples):\n",
        "        print(f\"\\nExample {i+1}:\")\n",
        "        print(f\"Original Text: {text}\")\n",
        "        print(f\"True Label: {true}\")\n",
        "        for model_name, pred in zip(model_names, preds):\n",
        "            result = \"✅ Correct\" if pred == true else \"❌ Incorrect\"\n",
        "            print(f\"{model_name} Prediction: {pred} - {result}\")\n",
        "        print(\"-\" * 50)"
      ]
    },
    {
      "cell_type": "code",
      "source": [
        "# Usage\n",
        "models = [lstm_model, gru_model, simple_rnn_model]\n",
        "model_names = [\"LSTM Model\", \"GRU Model\", \"Simple RNN Model\"]\n",
        "sample_text(models, model_names, test_loader, vocab)"
      ],
      "metadata": {
        "colab": {
          "base_uri": "https://localhost:8080/"
        },
        "id": "52EOF42S4Kam",
        "outputId": "7a774f81-9af7-4c4b-844c-9bf0ab1cd9b6"
      },
      "id": "52EOF42S4Kam",
      "execution_count": 53,
      "outputs": [
        {
          "output_type": "stream",
          "name": "stdout",
          "text": [
            "Sample Predictions from All Models:\n",
            "\n",
            "Example 1:\n",
            "Original Text: north korea to review its role in nuclear talks seoul north korea is seriously reconsidering its role in talks on its nuclear programs because of what it sees as a concerted campaign to topple the government in pyongyang , the north korean foreign ministry said monday .\n",
            "True Label: 0\n",
            "LSTM Model Prediction: 0 - ✅ Correct\n",
            "GRU Model Prediction: 0 - ✅ Correct\n",
            "Simple RNN Model Prediction: 2 - ❌ Incorrect\n",
            "--------------------------------------------------\n",
            "\n",
            "Example 2:\n",
            "Original Text: nasa again postpones launch of autonomous dart spacecraft com staff . nasa once again postponed the launch of the demonstration of autonomous rendezvous technology ( dart ) spacecraft thursday due to the discovery of contamination inside the of its pegasus launch vehicle .\n",
            "True Label: 3\n",
            "LSTM Model Prediction: 3 - ✅ Correct\n",
            "GRU Model Prediction: 3 - ✅ Correct\n",
            "Simple RNN Model Prediction: 2 - ❌ Incorrect\n",
            "--------------------------------------------------\n",
            "\n",
            "Example 3:\n",
            "Original Text: redskins coach bemoans questionable calls ( ap ) ap - apparently even a hall of fame coach doesn ' t get a break from the officials .\n",
            "True Label: 1\n",
            "LSTM Model Prediction: 1 - ✅ Correct\n",
            "GRU Model Prediction: 1 - ✅ Correct\n",
            "Simple RNN Model Prediction: 1 - ✅ Correct\n",
            "--------------------------------------------------\n",
            "\n",
            "Example 4:\n",
            "Original Text: yukos warns it oil output is lagging beleaguered russian energy giant yukos has warned that it will not produce as much oil as expected this year . it blames bailiffs who are draining its bank accounts to pay its potentially ruinous tax bill .\n",
            "True Label: 2\n",
            "LSTM Model Prediction: 2 - ✅ Correct\n",
            "GRU Model Prediction: 2 - ✅ Correct\n",
            "Simple RNN Model Prediction: 1 - ❌ Incorrect\n",
            "--------------------------------------------------\n",
            "\n",
            "Example 5:\n",
            "Original Text: japan narrowly escapes recession new figures show japan ' s economy is barely staying out of recession with annual growth of just 0 . 2 in the third quarter .\n",
            "True Label: 2\n",
            "LSTM Model Prediction: 2 - ✅ Correct\n",
            "GRU Model Prediction: 2 - ✅ Correct\n",
            "Simple RNN Model Prediction: 1 - ❌ Incorrect\n",
            "--------------------------------------------------\n"
          ]
        }
      ]
    },
    {
      "cell_type": "code",
      "execution_count": 54,
      "id": "bb38e093",
      "metadata": {
        "id": "bb38e093"
      },
      "outputs": [],
      "source": [
        "import matplotlib.pyplot as plt\n",
        "from sklearn.metrics import confusion_matrix, ConfusionMatrixDisplay\n",
        "\n",
        "def display_confusion_matrices(models, model_names, loader):\n",
        "    assert len(models) == len(model_names), \"Each model must have a corresponding name.\"\n",
        "\n",
        "    for model, name in zip(models, model_names):\n",
        "        model.eval()  # Set model to evaluation mode\n",
        "        all_preds = []\n",
        "        all_labels = []\n",
        "\n",
        "        # Collect predictions and true labels\n",
        "        with torch.no_grad():\n",
        "            for inputs, labels in loader:\n",
        "                outputs = model(inputs)\n",
        "                _, preds = torch.max(outputs, 1)\n",
        "                all_preds.extend(preds.cpu().numpy())\n",
        "                all_labels.extend(labels.cpu().numpy())\n",
        "\n",
        "        # Compute confusion matrix\n",
        "        cm = confusion_matrix(all_labels, all_preds)\n",
        "\n",
        "        # Plot the confusion matrix\n",
        "        plt.figure(figsize=(8, 6))\n",
        "        disp = ConfusionMatrixDisplay(confusion_matrix=cm)\n",
        "        disp.plot(cmap=plt.cm.Blues, values_format='d')\n",
        "        plt.title(f\"Confusion Matrix for {name}\")\n",
        "        plt.show()\n",
        "\n",
        "        # Calculate common mistakes\n",
        "        most_common_mistakes = {}\n",
        "        for true_label in range(cm.shape[0]):\n",
        "            # Exclude the diagonal (correct predictions)\n",
        "            predicted_errors = cm[true_label, :] - np.eye(cm.shape[0])[true_label] * cm[true_label, true_label]\n",
        "            common_error_idx = np.argmax(predicted_errors)\n",
        "            most_common_mistakes[true_label] = common_error_idx\n",
        "\n",
        "        # Print a description of the most common mistakes\n",
        "        print(f\"Most common mistakes for {name}:\")\n",
        "        for true_class, mistaken_class in most_common_mistakes.items():\n",
        "            print(f\" - True class {true_class} is often mistaken as class {mistaken_class}\")\n",
        "        print(\"-\" * 50)"
      ]
    },
    {
      "cell_type": "code",
      "source": [
        "# Usage\n",
        "models = [lstm_model, gru_model, simple_rnn_model]\n",
        "model_names = [\"LSTM Model\", \"GRU Model\", \"Simple RNN Model\"]\n",
        "display_confusion_matrices(models, model_names, test_loader)"
      ],
      "metadata": {
        "colab": {
          "base_uri": "https://localhost:8080/",
          "height": 1000
        },
        "id": "HleJJkX-VYbM",
        "outputId": "ad017c0e-fea1-481e-a0a2-d2bc55c293c8"
      },
      "id": "HleJJkX-VYbM",
      "execution_count": 55,
      "outputs": [
        {
          "output_type": "display_data",
          "data": {
            "text/plain": [
              "<Figure size 800x600 with 0 Axes>"
            ]
          },
          "metadata": {}
        },
        {
          "output_type": "display_data",
          "data": {
            "text/plain": [
              "<Figure size 640x480 with 2 Axes>"
            ],
            "image/png": "[encoded data removed]"
          },
          "metadata": {}
        },
        {
          "output_type": "stream",
          "name": "stdout",
          "text": [
            "Most common mistakes for LSTM Model:\n",
            " - True class 0 is often mistaken as class 2\n",
            " - True class 1 is often mistaken as class 0\n",
            " - True class 2 is often mistaken as class 3\n",
            " - True class 3 is often mistaken as class 2\n",
            "--------------------------------------------------\n"
          ]
        },
        {
          "output_type": "display_data",
          "data": {
            "text/plain": [
              "<Figure size 800x600 with 0 Axes>"
            ]
          },
          "metadata": {}
        },
        {
          "output_type": "display_data",
          "data": {
            "text/plain": [
              "<Figure size 640x480 with 2 Axes>"
            ],
            "image/png": "[encoded data removed]"
          },
          "metadata": {}
        },
        {
          "output_type": "stream",
          "name": "stdout",
          "text": [
            "Most common mistakes for GRU Model:\n",
            " - True class 0 is often mistaken as class 2\n",
            " - True class 1 is often mistaken as class 2\n",
            " - True class 2 is often mistaken as class 3\n",
            " - True class 3 is often mistaken as class 2\n",
            "--------------------------------------------------\n"
          ]
        },
        {
          "output_type": "display_data",
          "data": {
            "text/plain": [
              "<Figure size 800x600 with 0 Axes>"
            ]
          },
          "metadata": {}
        },
        {
          "output_type": "display_data",
          "data": {
            "text/plain": [
              "<Figure size 640x480 with 2 Axes>"
            ],
            "image/png": "[encoded data removed]"
          },
          "metadata": {}
        },
        {
          "output_type": "stream",
          "name": "stdout",
          "text": [
            "Most common mistakes for Simple RNN Model:\n",
            " - True class 0 is often mistaken as class 2\n",
            " - True class 1 is often mistaken as class 2\n",
            " - True class 2 is often mistaken as class 1\n",
            " - True class 3 is often mistaken as class 2\n",
            "--------------------------------------------------\n"
          ]
        }
      ]
    }
  ],
  "metadata": {
    "colab": {
      "provenance": [],
      "gpuType": "T4"
    },
    "kernelspec": {
      "display_name": "Python 3",
      "name": "python3"
    },
    "language_info": {
      "codemirror_mode": {
        "name": "ipython",
        "version": 3
      },
      "file_extension": ".py",
      "mimetype": "text/x-python",
      "name": "python",
      "nbconvert_exporter": "python",
      "pygments_lexer": "ipython3",
      "version": "3.12.7"
    },
    "varInspector": {
      "cols": {
        "lenName": 16,
        "lenType": 16,
        "lenVar": 40
      },
      "kernels_config": {
        "python": {
          "delete_cmd_postfix": "",
          "delete_cmd_prefix": "del ",
          "library": "var_list.py",
          "varRefreshCmd": "print(var_dic_list())"
        },
        "r": {
          "delete_cmd_postfix": ") ",
          "delete_cmd_prefix": "rm(",
          "library": "var_list.r",
          "varRefreshCmd": "cat(var_dic_list()) "
        }
      },
      "types_to_exclude": [
        "module",
        "function",
        "builtin_function_or_method",
        "instance",
        "_Feature"
      ],
      "window_display": false
    },
    "accelerator": "GPU"
  },
  "nbformat": 4,
  "nbformat_minor": 5
}